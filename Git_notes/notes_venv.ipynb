{
 "metadata": {
  "language_info": {
   "codemirror_mode": {
    "name": "ipython",
    "version": 3
   },
   "file_extension": ".py",
   "mimetype": "text/x-python",
   "name": "python",
   "nbconvert_exporter": "python",
   "pygments_lexer": "ipython3",
   "version": 3
  },
  "orig_nbformat": 2
 },
 "nbformat": 4,
 "nbformat_minor": 2,
 "cells": [
  {
   "cell_type": "code",
   "execution_count": null,
   "metadata": {},
   "outputs": [],
   "source": [
    "venv\t\t\t\t\t\n",
    "\t\t\t\t\t\n",
    "\tvirtual environment\t\t\t\t\n",
    "\t\t\t\t\t\n",
    "\t\t\t\t\t\n",
    "# to install venv, under shell, use the following code:\n",
    "$ pip -install virtualenv\t\t\t\n",
    "# to create a venv, usually the venv is created within the project folder, and in a folder called ‘venv’.\t\n",
    "$ python3 -m venv my_project/venv \t\t\t\t\n",
    "$ python3 -m venv my_project/venv –system-site—packages\t\t\t# allows the venv to use global packages.\t\n",
    "\t\t\t\t\t\n",
    "# as the venv folder is normally not included as a part of the source control., can be included in the .gitignore file\t\t\t\t\n",
    "# to activate the venv\t\t\n",
    "$ source project_env/bin/activate\t\t\t\t\n",
    "# to deactivate the venv\t\n",
    "$ deactivate\t\t\t\t\n",
    "#to export local packages\t\t\t\t\n",
    "$ pip freeze > requirements.txt\t\t\t#output a list for the local packages\n",
    "#to install packages from a list\t\n",
    "$ pip install -r requirements.txt\t\t\t\n",
    "#to remove the venv\n",
    "$ rm -rf my_project/venv\t\t\t\t\n",
    "#to display local packages\t\t\t\t\t\n",
    "$ pip list –local\t\t\n"
   ]
  }
 ]
}