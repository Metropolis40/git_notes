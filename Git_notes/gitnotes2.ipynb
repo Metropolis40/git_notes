{
 "metadata": {
  "language_info": {
   "codemirror_mode": {
    "name": "ipython",
    "version": 3
   },
   "file_extension": ".py",
   "mimetype": "text/x-python",
   "name": "python",
   "nbconvert_exporter": "python",
   "pygments_lexer": "ipython3",
   "version": "3.9.1-final"
  },
  "orig_nbformat": 2,
  "kernelspec": {
   "name": "python3",
   "display_name": "Python 3",
   "language": "python"
  }
 },
 "nbformat": 4,
 "nbformat_minor": 2,
 "cells": [
  {
   "source": [
    "e.g., say, someone \"owns\" the Central Repository.\n",
    "\n",
    "we can create a copy of this repository (known as a fork) in our own GitHub account.\n",
    "    by clicking the ('fork') button\n",
    "\n",
    "    the Central repository is called           (base fork)\n",
    "    the created new repository is called       (head fork)\n",
    "\n",
    "we will then clone (copy) the head repository to our local computer. we will work locally on our laptop on this local repository.\n",
    "\n",
    "When we are ready to submit our changes to the central repository, we will:\n",
    "\n",
    ".   Sync our local copy of the repository with (someone's) central repository so we will have the most up to date version, and then,\n",
    "\n",
    ".   Push the changes we made to our local copy (or the head fork) of the repository, and (then) to the central repository.\n",
    "    "
   ],
   "cell_type": "markdown",
   "metadata": {}
  },
  {
   "source": [],
   "cell_type": "markdown",
   "metadata": {}
  },
  {
   "source": [
    "Central repository - the central repository is what all participants/collaborator will add to. It is the \"final working version\" of the project.\n",
    "\n",
    "our forked repository - is a \"personal” working copy of the central repository stored in our GitHub account. This is called a fork. When we are happy with our work, we update our repo to our head fork repo, then we can update our changes to the central repository.\n",
    "\n",
    "our local repository - this is a local version of our fork on our own computer. We will most often do all of our work locally on our computer."
   ],
   "cell_type": "markdown",
   "metadata": {}
  },
  {
   "source": [
    "Git 03: Git Clone"
   ],
   "cell_type": "markdown",
   "metadata": {}
  },
  {
   "cell_type": "code",
   "execution_count": null,
   "metadata": {},
   "outputs": [],
   "source": [
    "we should fork/ backup the repo first from the central repo, by clicking the 'fork' button, and\n",
    "then we can clone the head fork to our local repo dir, e.g., \n",
    "$ cd dir\n",
    "$ git init\n",
    "# we then clone the forked repo to our computer\n",
    "$ git clone https://github.com/StructuralChange/DI-NEON-participants"
   ]
  },
  {
   "source": [
    "Git 04: markdown file, *.md"
   ],
   "cell_type": "markdown",
   "metadata": {}
  },
  {
   "source": [
    "#: a header element\n",
    "**: bold text\n",
    "*: italic text\n",
    "`: code blocks"
   ],
   "cell_type": "markdown",
   "metadata": {}
  },
  {
   "source": [
    "'The use of the highlight ( `text` ) will be reserved for denoting code.\n",
    "To add emphasis to other text use **bold** or *italics*.'"
   ],
   "cell_type": "markdown",
   "metadata": {}
  },
  {
   "source": [
    "![Getting Started](https://raw.githubusercontent.com/NEONScience/NEON-Data-Skills/dev-aten/graphics/reproducible-science/git-fork-clone-flow.png)"
   ],
   "cell_type": "markdown",
   "metadata": {}
  },
  {
   "cell_type": "code",
   "execution_count": null,
   "metadata": {},
   "outputs": [],
   "source": [
    "Once we have done our work in our local repo, we can push the updates to the head fork, and \n",
    "then if we are happy with it, we can update the central repo based on the head fork, e.g.,\n",
    "\n",
    "\n",
    "step 1. we (e.g., the collaborator) can send a 'pull request' to the owner of the central repository.\n",
    "    we may use the following terminology:\n",
    "    base fork: NEONScience/DI-NEON-participants\n",
    "    head fork: StructuralChange/DI-NEON-participants\n",
    "\n",
    "    The above pull request configuration tells Git to sync (or update) the NEON repo with contents from your repo.\n",
    "\n",
    "    Base: the repo that will be updated, the changes will be added to this repo.\n",
    "    Head: the repo from which the changes come.\n",
    "\n",
    "step 2. The owner of the base fork (e.g., usually, the central fork) can approve/accept the pull request via github.\n",
    "step 3. github will comapre the two forks, if the owner confirms, she can proceed (given that we have the permission/previlidge) by clicking 'Merge Pull Request'\n",
    "step 4. when we (e.g., as the collaborator) sends a pull request to the owner, we usually add a name tag, e.g., @collaborator in the comments so that the owner will know who made it.\n",
    "\n",
    "\n"
   ]
  },
  {
   "source": [
    "Git 07: Updating Your Repo by Setting Up a Remote"
   ],
   "cell_type": "markdown",
   "metadata": {}
  },
  {
   "cell_type": "code",
   "execution_count": null,
   "metadata": {},
   "outputs": [],
   "source": [
    "Once we've established working in our repo, we should follow these steps when starting to work each time in the repo:\n",
    "\n",
    "1.  Update our local repo from the central repo (git pull upstream master).\n",
    "\n",
    "    $ cd dir\n",
    "    $ git remote add upstream https://github.com/NEONScience/DI-NEON-participants\n",
    "\n",
    "    #here upstream is the variable which we cenventionally associate with the link of the central repo.\n",
    "\n",
    "2.  Make edits, save, git add, and git commit all in your local repo.\n",
    "\n",
    "    $ git add .\n",
    "    $ git commit -m 'update'\n",
    "\n",
    "3.  Push changes from local repo to your fork on github.com (git push origin master)\n",
    "\n",
    "    $ git push master origin\n",
    "    #master is the local repo, and origin is the head fork repo\n",
    "\n",
    "4.  Update the central repo from your fork (by sending a Pull Request)\n",
    "    pull request via github\n",
    "\n",
    "Repeat."
   ]
  }
 ]
}