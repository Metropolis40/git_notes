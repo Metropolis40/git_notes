{
 "metadata": {
  "language_info": {
   "codemirror_mode": {
    "name": "ipython",
    "version": 3
   },
   "file_extension": ".py",
   "mimetype": "text/x-python",
   "name": "python",
   "nbconvert_exporter": "python",
   "pygments_lexer": "ipython3",
   "version": 3
  },
  "orig_nbformat": 2
 },
 "nbformat": 4,
 "nbformat_minor": 2,
 "cells": [
  {
   "cell_type": "code",
   "execution_count": null,
   "metadata": {},
   "outputs": [],
   "source": [
    "git branch #show all branches\n",
    "git branch branchName #create a new branch\n",
    "git branch -D branchName #delete the branch\n",
    "\n",
    "git checkout branchName #connect to branchName\n",
    "git checkout -b branchName #create and then connect to branchName\n",
    "\n",
    "git merge #merge the branch to the specified branch.and"
   ]
  }
 ]
}