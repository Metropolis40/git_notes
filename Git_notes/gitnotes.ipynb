{
 "metadata": {
  "language_info": {
   "codemirror_mode": {
    "name": "ipython",
    "version": 3
   },
   "file_extension": ".py",
   "mimetype": "text/x-python",
   "name": "python",
   "nbconvert_exporter": "python",
   "pygments_lexer": "ipython3",
   "version": "3.9.1-final"
  },
  "orig_nbformat": 2,
  "kernelspec": {
   "name": "python3",
   "display_name": "Python 3",
   "language": "python"
  }
 },
 "nbformat": 4,
 "nbformat_minor": 2,
 "cells": [
  {
   "source": [
    "1.  To create / delete a local repository"
   ],
   "cell_type": "markdown",
   "metadata": {}
  },
  {
   "source": [
    "$ cd ~/Desktop   # return to Desktop directory\n",
    "$ cd planets     # go into planets directory, which is already a Git repository\n",
    "$ ls -a          # ensure the .git subdirectory is still present in the planets directory\n",
    "$ mkdir moons    # make a subdirectory planets/moons\n",
    "$ cd moons       # go into moons subdirectory\n",
    "$ git init       # make the moons subdirectory a Git repository\n",
    "                    git will create a hidden dir called .git, which contains files of updated versions which we create in the later stages.\n",
    "$ ls -a          # ensure the .git subdirectory is present indicating we have created a new Git repository\n",
    "\n",
    "$ rm -rf moons/.git #delete the .git folder, rm the repository"
   ],
   "cell_type": "code",
   "metadata": {},
   "execution_count": null,
   "outputs": []
  },
  {
   "source": [
    "2.  Tracking changes: udpate the working dir, staging area, and the local repository\n"
   ],
   "cell_type": "markdown",
   "metadata": {}
  },
  {
   "cell_type": "code",
   "execution_count": null,
   "metadata": {},
   "outputs": [],
   "source": [
    "$ nano mars.txt #suppose we create a new txt file, and this txt file contains:\n",
    "                \"Cold and dry, but everything is my favorite color\"\n",
    "$ git status # we can use this code to show the status, e.g., any changed in the working dir and staging area\n",
    "\n",
    "$ git add mars.txt # we can add the file into the statging area\n",
    "$ git commit -m \"Start notes on Mars as a base\" # we can commit those in the staging area into the repository (assuming we do not choose any speicific files- we will commit everyting in the staging area into the depository)\n",
    "$ git log #we can check the log which tells us each of the commitment, HEAD is the most recent, HEAD~1 is the one prior to HEAD, and so forth.\n",
    "$ nano mars.txt\n",
    "                # here suppose we update the mars.txt file,\n",
    "                \"Cold and dry, but everything is my favorite color\"\n",
    "                \"The two moons may be a problem for Wolfman\"\n",
    "$ git status #we can then use this code to check any update in the workint dir, and the staging area\n",
    "$ git diff # we can check the difference between the working dir and the depository, we wil be told that our file has been added one extra line, e.g.,\n",
    "                + \"The two moons may be a problem for Wolfman\"\n",
    "$ git add mars.txt\n",
    "$ git commit -m \"Add concerns about effects of Mars' moons on Wolfman\" #we can put the updated mars.txt to the staging area and commit it to the depository.abs\n",
    "$ nano mars.txt #we can further update the mars.txt\n",
    "                \"Cold and dry, but everything is my favorite color\"\n",
    "                \"The two moons may be a problem for Wolfman\"\n",
    "                \"But the Mummy will appreciate the lack of humidity\"\n",
    "$ git add mars.txt\n",
    "$ git diff\n",
    " #here we just put the udpated file into the staging area, and not yet commit it to the repository, therefore, the repository has not yet been updated and will be the same compared to the working dir. thus there will be no output.\n",
    "\n",
    "$ git diff --staged # we can use this code to compare the difference between the working dir and those in the staging area.and we will be toled that our file has been added an extra line:\n",
    "                + \"But the Mummy will appreciate the lack of humidity\"\n",
    "\n",
    "$ git commit -m \"Discuss concerns about Mars' climate for Mummy\" #we then commit\n",
    "$ git log #we can further check the log\n"
   ]
  },
  {
   "source": [
    "3.  Exploring History"
   ],
   "cell_type": "markdown",
   "metadata": {}
  },
  {
   "cell_type": "code",
   "execution_count": null,
   "metadata": {},
   "outputs": [],
   "source": [
    "$ nano mars.txt #suppose we further udpate mars.txt\n",
    "                \"Cold and dry, but everything is my favorite color\"\n",
    "                \"The two moons may be a problem for Wolfman\"\n",
    "                \"But the Mummy will appreciate the lack of humidity\"\"\n",
    "                \"An ill-considered change\"\n",
    "$ git diff HEAD mars.txt #we can compare this udpate with the one which was most recently commited to the local depository (e.g., HEAD)\n",
    "$ git diff HEAD~1 mars.txt #or we can compare it to the one which was commmitted prior to HEAD.\n",
    "$ git diff f22b25e3233b4645dabd0d81e651fe074bd8e73b mars.txt #we can also refer the previous commits using several numbers of the unique identifier (shown by git log) e.g., we can refer it using f22b25e3233 or f22b25e etc.and\n",
    "$ git checkout HEAD mars.txt #we can restore the file in the working dir from the local depository (HEAD). [CAUTION] git will restore everything if without specifiying the file names. Git will clean the file in the staging area as well.\n",
    "$ git checkout f22b25e mars.txt #restore from previous depositories based on their unique identifier.and\n",
    "$ git checkout HEAD~2 mars.txt  #if we restore the file from depositories prior to HEAD, the file will be restored not only in the working dir but also in the staging area, waiting for us to commit (as Git thinks that we will use the restored version). Git will only restore the file in the working dir (but not in the staging area) if we restore the file from the most recent depository (e.g., HEAD)\n",
    "$ git checkout HEAD~2 #if we try to restore the file from depositories prior to HEAD but missing the file name, we will enter a detached status (e.g., into another branch) - use the following code to quit that status:\n",
    "$ git checkout master \n",
    "$ git revert [erroneous commit ID] #we can revert the commit - there will be a new commit (e.g., reversting commit) added to the log\n"
   ]
  },
  {
   "source": [
    "4.  Ignoring things"
   ],
   "cell_type": "markdown",
   "metadata": {}
  },
  {
   "source": [
    "$ mkdir results\n",
    "$ touch a.dat b.dat c.dat results/a.out results/b.out #we can create some files. however, we do not want Git to track /update them nor commit them into the depository.\n",
    "\n",
    "$ nano .gitignore #we can create a file called .gitignore which contains the files / dir's which we ask Git to ignore, e.g., \n",
    "\n",
    "        *.dat           #this means we ask Git to ignore all the .dat files\n",
    "        results/        #this means we ask Git to ignore all the files under the results dir\n",
    "        results/plots/  #this means we ask Git to ignore all the files under the results/plots dir\n",
    "        !final.dat      #we ask git to \"except\" (e.g., not ignore) final.data - the post order will replace the prior order (e.g., *.dat)\n",
    "        !log_*          #we except any file which starts with 'log_'.\n",
    "\n",
    "$ git add .gitignore #However, we normally will update the .gitignore file itself because we may want to remember/share what we want Git to ignore\n",
    "$ git commit -m \"Ignore data files and the results folder.\"\n",
    "$ git status\n",
    "\n",
    "$ git add a.dat #if we add the file listed in .gitignore, we will receive notes saying that this file should be ignored, we can use\n",
    "$ git add -f a.dat # ... to force to add it to the staging area.\n",
    "\n",
    "$ git status --ignored #we can check which files are 'ignored'.\n"
   ],
   "cell_type": "code",
   "metadata": {},
   "execution_count": null,
   "outputs": []
  },
  {
   "source": [
    "5.  Remote in Github"
   ],
   "cell_type": "markdown",
   "metadata": {}
  },
  {
   "cell_type": "code",
   "execution_count": null,
   "metadata": {},
   "outputs": [],
   "source": [
    "$ git remote add origin https://github.com/StructuralChange/test1 #We can create a remote repo which corresponds to our local repo. \n",
    "                                                            #we create the remote repo via github, the link is\n",
    "                                                            #  https://github.com/StructuralChange/test1\n",
    "                                                            # what we do next is to assocaite this link with the name of the remote repo, e.g.,                                                                   conventionally called 'origin'.\n",
    "$ git remote -v #we can check if the origin has been set up properly using this line.and\n",
    "$ git remote <...> # 'git remote' is a command which we use to config the remote repo, we use 'git' to control our working dir and/or local repo.\n",
    "\n",
    "$ git push origin master # we can then upload our local repo to the remote repo, the local repo is called 'master'.and\n",
    "$ git pull origin master # or alternatively, we can update our local repo based on the remote repo (e.g., if we create a new file via github webpage), once we pull, not only our local repo but also our working dir will be updated, and the staging area will be empty.and\n",
    "\n",
    "                [optional]\n",
    "                # however, if we want to see what exactly has been updated before 'merging' it to our local repository (e.g., if we previously forgot to                    write any comments), we can use git fetch\n",
    "                $ git fetch origin master #this will NOT update our local repo - this will fetch the 'master' branch in the 'origin' remote, or we                                            can use\n",
    "                $ git fetch origin # this will fetch everything in the 'origin' remote, or we can use\n",
    "                $ git fetch # this will fetch everything in all the remotes.\n",
    "                $ git diff master FETCH_HEAD #we can see the difference between what we downloaded from github repository (will be a output indicating                          that the fetched copy from github repository is renamed as FETCH_HEAD) and what we have in our local repository.\n",
    "\n",
    "                 # if we are happy with what has been updated in remotes, we can merge:\n",
    "                $ git merge                 #merge everyting in every remotes\n",
    "                $ git merge origin          #merge everyting in the origin remote\n",
    "                $ git merge origin/master   #merge the master branch in the origin remote\n",
    "\n",
    "\n",
    "\n",
    "$ git push -u origin master # '-u' means '--upstream', sometimes we can associate origin and master, so that we will no long to type the auguments for 'git pull'. e.g.,\n",
    "$ git pull\n",
    "\n",
    "$ git pull --allow-unrelated-histories origin master #if the link we initially use to associate with our remote repo (i.e., origin) contains unrelated history (e.g., contains other files), we can still force git to do so.\n",
    "\n"
   ]
  },
  {
   "source": [
    "6.  Collaborating"
   ],
   "cell_type": "markdown",
   "metadata": {}
  },
  {
   "source": [
    "http://swcarpentry.github.io/git-novice/08-collab/index.html\n",
    "\n",
    "https://www.neonscience.org/resources/learning-hub/tutorials/intro-git-version-control"
   ],
   "cell_type": "markdown",
   "metadata": {}
  },
  {
   "source": [
    "#the ownder needs to add the collaborator's name in github, and\n",
    "#the collaborator needs to accept the invitation via github as well.\n",
    "\n",
    "$ git clone https://github.com/StructuralChange/test1/   ~/Desktop/new_folder #the collaborator needs to download/clone the remote depository to local folder.and\n",
    "\n",
    "\n"
   ],
   "cell_type": "code",
   "metadata": {},
   "execution_count": null,
   "outputs": []
  },
  {
   "source": [
    "![Getting Started](./photo_notes/github-collaboration.svg)"
   ],
   "cell_type": "markdown",
   "metadata": {}
  },
  {
   "cell_type": "code",
   "execution_count": null,
   "metadata": {},
   "outputs": [],
   "source": [
    "$ cd ~/Desktop/new_folder\n",
    "$ nano pluto.txt #the collaborator can create a file called pluto.txt, suppose it contains:\n",
    "            'It is so a planet!'\n",
    "$ cat pluto.txt\n",
    "\n",
    "$ git add pluto.txt\n",
    "$ git commit -m \"Add notes about Pluto\"\n",
    "$ git push master origin  # the collaborator can push/uploaded the updates to the remote depository (e.g., master, https://github.com/StructuralChange/test1/  )"
   ]
  },
  {
   "source": [
    "until now, we have a working dir (e.g., master), a local depository (e.g., origin) , and a remote repo (e.g., remote) on github \n",
    "\n",
    "We can have multiple remote repos.\n",
    "For example, on some large projects you might have your own copy in your own GitHub account (you’d probably call this origin) and also the main “upstream” project repo (let’s call this upstream for the sake of examples). You would pull from upstream from time to time to get the latest updates that other people have committed."
   ],
   "cell_type": "markdown",
   "metadata": {}
  },
  {
   "cell_type": "code",
   "execution_count": null,
   "metadata": {},
   "outputs": [],
   "source": [
    "#that means,\n",
    "upstream -> the central copy of the project (e.g., the one many people work together)\n",
    "origin   -> the one which we work on - it is also on github but it is different from upstream (e.g., like a copy of upstream)\n",
    "every time we re-start our work, we will update our working dir and staging area from the central copy (e.g., the upstream) considering that the central copy has been formally updated by some other people. Once we have done our job, we will commit our updates to our local repository, and then push/upload it to our origin repository (e.g., origin). We will then send a pull request to the central copy (e.g., upstream) and wait for the approval (e.g., from 'the owner' of the whole project).\n",
    "\n",
    "Here the name we give to a remote only exists locally. It’s an alias that we choose - whether origin, or upstream, or fred - and not something intrinstic to the remote repository.\n",
    "\n",
    "$ git remote -v #lists all the remotes that are configured (we already used this in the last episode)\n",
    "$ git remote add [name] [url] #is used to add a new remote\n",
    "$ git remote remove [name] #removes a remote. Note that it doesn’t affect the remote repository at all - it just removes the link to it from the local repo.\n",
    "    $ git remote set-url [name] [newurl] #changes the URL that is associated with the remote. This is useful if it has moved, e.g. to a different GitHub account, or from GitHub to a different hosting service. Or, if we made a typo when adding it!\n",
    "    $ git remote rename [oldname] [newname] #changes the local alias by which a remote is known - its name. For example, one could use this to change upstream to fred.\n",
    "\n",
    "we can 'download/clone' one gitbub repository to our local repository (and working area, by default), make some changes/updates, and then upload/copy it to another github repository. e.g., \n",
    "1. we can clone repository one to our local repository, e.g.,\n",
    "$ cd dir #dir represents the dir of the local folder\n",
    "$ git init #create a repository in this specific folder, locally\n",
    "$ git clone https://github.com/StructuralChange/test1 #clone the github repository to our local repository\n",
    "    #here by default the 'origin' (e.g., the link of the remote repository of the local repository which is just cloned) of this local repository will be 'https://github.com/StructuralChange/test1'\n",
    "# suppose we want to upload it to another github repository, we can\n",
    "# create a new empty repository in github, in https://github.com/StructuralChange/test2\n",
    "# and we need to give it a name,e.g., test2\n",
    "\n",
    "\n",
    "$ git remote add test2 https://github.com/StructuralChange/test2 #\n",
    "\n",
    "$ git add .#we may have made some changes/updates, thus we can stage and commit them into our local repository.\n",
    "$ git commit -m 'some updates' \n",
    "\n",
    "$ git push test2 master #here test2 is the remote destination (the link assocaited with the remote repository on github), and master represents the local repository (which we just cloned from github repository test1)\n"
   ]
  },
  {
   "source": [
    "7.  Conflicts"
   ],
   "cell_type": "markdown",
   "metadata": {}
  },
  {
   "source": [
    "......"
   ],
   "cell_type": "markdown",
   "metadata": {}
  },
  {
   "source": [
    "8.  Open science\n",
    "\n",
    "How can version control help me make my work more open?\n",
    "\n",
    "\n",
    "The data that the scientist collects is stored in an open access repository like figshare or Zenodo, possibly as soon as it’s collected, and given its own Digital Object Identifier (DOI). Or the data was already published and is stored in (`Dryad`).\n",
    "The scientist creates a new repository on GitHub to hold her work.\n",
    "As she does her analysis, she pushes changes to her scripts (and possibly some output files) to that repository. She also uses the repository for her paper; that repository is then the hub for collaboration with her colleagues.\n",
    "When she’s happy with the state of her paper, (`she posts a version to arXiv`) or some other preprint server to invite feedback from peers.\n",
    "Based on that feedback, she may post several revisions before finally submitting her paper to a journal.\n",
    "The published paper includes links to her preprint and to her code and data repositories, which makes it much easier for other scientists to use her work as starting point for their own research."
   ],
   "cell_type": "markdown",
   "metadata": {}
  },
  {
   "source": [
    "We can use a public hosting service like `GitHub, GitLab,or BitBucket`. \n",
    "\n",
    "GitHub repositories can also be assigned DOIs for citations, by connecting its releases to `Zenodo`. For example, `10.5281/zenodo.57467` is the DOI that has been “minted” for this introduction to Git."
   ],
   "cell_type": "markdown",
   "metadata": {}
  },
  {
   "cell_type": "code",
   "execution_count": null,
   "metadata": {},
   "outputs": [],
   "source": []
  }
 ]
}